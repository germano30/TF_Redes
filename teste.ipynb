{
 "cells": [
  {
   "cell_type": "code",
   "execution_count": 8,
   "metadata": {},
   "outputs": [
    {
     "name": "stdout",
     "output_type": "stream",
     "text": [
      "Tempo médio para pandas.concat após 1000 repetições: 0.0017 segundos\n",
      "Tempo médio para polars.concat após 1000 repetições: 0.0004 segundos\n",
      "Tempo médio para concatenação com itertools.chain e dicionário após 1000 repetições: 0.0446 segundos\n"
     ]
    }
   ],
   "source": [
    "import pandas as pd\n",
    "import polars as pl\n",
    "import time\n",
    "import itertools\n",
    "import numpy as np\n",
    "\n",
    "# Tamanho dos dados para testes\n",
    "n_rows = 2000  # Número de linhas por DataFrame\n",
    "n_dfs = 11        # Número de DataFrames para concatenar (ajustado para evitar problemas de memória)\n",
    "\n",
    "# Número de repetições para calcular o valor médio\n",
    "n_repeticoes = 1000\n",
    "\n",
    "# Gerar dados simulados\n",
    "def generate_data():\n",
    "    return pd.DataFrame({\n",
    "        'A': range(n_rows),\n",
    "        'B': range(n_rows, 2 * n_rows)\n",
    "    })\n",
    "\n",
    "# Criação de listas com DataFrames de exemplo para pandas e polars\n",
    "pandas_dfs = [generate_data() for _ in range(n_dfs)]\n",
    "polars_dfs = [pl.DataFrame(df) for df in pandas_dfs]\n",
    "\n",
    "# Listas para armazenar os tempos de execução de cada método\n",
    "tempos_pandas = []\n",
    "tempos_polars = []\n",
    "tempos_itertools = []\n",
    "\n",
    "# Executa o benchmark 1000 vezes\n",
    "for _ in range(n_repeticoes):\n",
    "    # 1. Teste de concatenação com pandas.concat\n",
    "    start_time = time.time()\n",
    "    pd.concat(pandas_dfs, ignore_index=True)\n",
    "    tempos_pandas.append(time.time() - start_time)\n",
    "    \n",
    "    # 2. Teste de concatenação com polars.concat\n",
    "    start_time = time.time()\n",
    "    pl.concat(polars_dfs, how=\"vertical\")\n",
    "    tempos_polars.append(time.time() - start_time)\n",
    "    \n",
    "    # 3. Teste de concatenação usando dicionário com itertools.chain\n",
    "    start_time = time.time()\n",
    "    dict_data = {\n",
    "        'A': list(itertools.chain.from_iterable(df['A'] for df in pandas_dfs)),\n",
    "        'B': list(itertools.chain.from_iterable(df['B'] for df in pandas_dfs))\n",
    "    }\n",
    "    pd.DataFrame(dict_data)\n",
    "    tempos_itertools.append(time.time() - start_time)\n",
    "\n",
    "# Cálculo das médias\n",
    "media_pandas = np.mean(tempos_pandas)\n",
    "media_polars = np.mean(tempos_polars)\n",
    "media_itertools = np.mean(tempos_itertools)\n",
    "\n",
    "print(f\"Tempo médio para pandas.concat após {n_repeticoes} repetições: {media_pandas:.4f} segundos\")\n",
    "print(f\"Tempo médio para polars.concat após {n_repeticoes} repetições: {media_polars:.4f} segundos\")\n",
    "print(f\"Tempo médio para concatenação com itertools.chain e dicionário após {n_repeticoes} repetições: {media_itertools:.4f} segundos\")\n"
   ]
  },
  {
   "cell_type": "code",
   "execution_count": null,
   "metadata": {},
   "outputs": [],
   "source": []
  },
  {
   "cell_type": "code",
   "execution_count": 14,
   "metadata": {},
   "outputs": [
    {
     "name": "stdout",
     "output_type": "stream",
     "text": [
      "<class 'polars.dataframe.frame.DataFrame'>\n",
      "<class 'pandas.core.frame.DataFrame'>\n"
     ]
    }
   ],
   "source": [
    "df  = polars_dfs[0]\n",
    "print(type(df))\n",
    "df = df_polars.to_pandas()\n",
    "print(type(df))"
   ]
  }
 ],
 "metadata": {
  "kernelspec": {
   "display_name": "Python 3",
   "language": "python",
   "name": "python3"
  },
  "language_info": {
   "codemirror_mode": {
    "name": "ipython",
    "version": 3
   },
   "file_extension": ".py",
   "mimetype": "text/x-python",
   "name": "python",
   "nbconvert_exporter": "python",
   "pygments_lexer": "ipython3",
   "version": "3.10.12"
  }
 },
 "nbformat": 4,
 "nbformat_minor": 2
}
